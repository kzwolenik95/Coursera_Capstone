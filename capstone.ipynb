{
    "cells": [
        {
            "cell_type": "markdown",
            "source": [
                "# This notebook purpose is to complete Coursera Capstone project"
            ],
            "metadata": {}
        },
        {
            "cell_type": "code",
            "execution_count": 2,
            "source": [
                "import pandas as pd\r\n",
                "import numpy as np"
            ],
            "outputs": [],
            "metadata": {}
        },
        {
            "cell_type": "code",
            "execution_count": 3,
            "source": [
                "print(\"Hello Capstone Project Course!\")"
            ],
            "outputs": [
                {
                    "output_type": "stream",
                    "name": "stdout",
                    "text": [
                        "Hello Capstone Project Course!\n"
                    ]
                }
            ],
            "metadata": {}
        }
    ],
    "metadata": {
        "orig_nbformat": 4,
        "language_info": {
            "name": "python",
            "version": "3.9.4",
            "mimetype": "text/x-python",
            "codemirror_mode": {
                "name": "ipython",
                "version": 3
            },
            "pygments_lexer": "ipython3",
            "nbconvert_exporter": "python",
            "file_extension": ".py"
        },
        "kernelspec": {
            "name": "python3",
            "display_name": "Python 3.9.4 64-bit ('venv': venv)"
        },
        "interpreter": {
            "hash": "37f1180475ecdb2ed36665e0395db1fba434db1f5df330b017f5de6a886f47e0"
        }
    },
    "nbformat": 4,
    "nbformat_minor": 2
}