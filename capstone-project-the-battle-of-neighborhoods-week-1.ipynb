{
 "cells": [
  {
   "cell_type": "markdown",
   "source": [
    "# Capstone Project - The Battle of the Neighborhoods"
   ],
   "metadata": {}
  },
  {
   "cell_type": "markdown",
   "source": [
    "## Table of contents\r\n",
    "* [Introduction: Business Problem](#introduction)\r\n",
    "* [Data](#data)\r\n",
    "* [Methodology](#methodology)\r\n",
    "* [Analysis](#analysis)\r\n",
    "* [Results and Discussion](#results)\r\n",
    "* [Conclusion](#conclusion)"
   ],
   "metadata": {}
  },
  {
   "cell_type": "markdown",
   "source": [
    "# Introduction/Business Problem\r\n",
    "## 1. A description of the problem and a discussion of the background"
   ],
   "metadata": {}
  },
  {
   "cell_type": "markdown",
   "source": [
    "In this project I will compare neiberhoods of two big cities in Europe, Amsterdam and Berlin.\r\n",
    "\r\n",
    "My target audience are people that know one city pretty well and are wondering which neighborhood of the other city is most similar to the one they like.\r\n",
    "\r\n",
    "They could use this data to choose location of their hotel or apartment when visiting or moving to the other city. \r\n",
    "\r\n",
    "Criteria that I will take into the consideration are, Population density, area, venues nearby"
   ],
   "metadata": {}
  },
  {
   "cell_type": "markdown",
   "source": [
    "# Data \r\n",
    "## 2. A description of the data and how it will be used to solve the problem. "
   ],
   "metadata": {}
  },
  {
   "cell_type": "markdown",
   "source": [
    "I will take postal codes, neigboorhood info, geo location from, **https://postal-codes.cybo.com/germany/berlin/#listcodes**, **https://postal-codes.cybo.com/netherlands/amsterdam/#listcodes** then using the foursquare API, I will obtain data about the venues in each neiborhood to compare them.\r\n",
    "\r\n",
    "The details page on **cybo.com** have **Neighborhoods**, **Coordinates**, **area** and **population** fields \r\n",
    "Foursquare endpoint gives information about the venues **https://api.foursquare.com/v2/venues/explore**\r\n",
    "\r\n",
    "First entry from the Berlin codes:\r\n",
    "\r\n",
    "\r\n",
    "Postal Code|City|Administrative Region|Population|Area\r\n",
    " --- | --- | --- | --- | --- \r\n",
    "10115|Berlin|Berlin|16,678|2.421 km²\r\n",
    "\r\n",
    "And in the details page **https://postal-codes.cybo.com/germany/10115_berlin-berlin/** fields that I will use:\r\n",
    "\r\n",
    "| | |\r\n",
    ":--- | --- \r\n",
    "**Neighborhoods**|Mitte\r\n",
    "**Coordinates**|52.533706954560394° / 13.387223860255002°\r\n",
    "\r\n",
    "Interesing information from the API are in the items, especialy venue fields.\r\n"
   ],
   "metadata": {}
  },
  {
   "cell_type": "markdown",
   "source": [
    "Getting data from cybo.com in separate notebook, here I will import the obtained files:"
   ],
   "metadata": {}
  },
  {
   "cell_type": "code",
   "execution_count": 10,
   "source": [
    "import pandas as pd"
   ],
   "outputs": [],
   "metadata": {}
  },
  {
   "cell_type": "code",
   "execution_count": 19,
   "source": [
    "berlin_codes_df = pd.read_csv('berlin_codes.csv', delimiter=';')\r\n",
    "berlin_codes_df.head()"
   ],
   "outputs": [
    {
     "output_type": "execute_result",
     "data": {
      "text/plain": [
       "   Postal Code    City Administrative Region Population Area km²\n",
       "0        10115  Berlin                Berlin     16,678    2.421\n",
       "1        10117  Berlin                Berlin     24,223    3.321\n",
       "2        10119  Berlin                Berlin      7,408    0.857\n",
       "3        10178  Berlin                Berlin     14,069    1.872\n",
       "4        10179  Berlin                Berlin     15,897    2.183"
      ],
      "text/html": [
       "<div>\n",
       "<style scoped>\n",
       "    .dataframe tbody tr th:only-of-type {\n",
       "        vertical-align: middle;\n",
       "    }\n",
       "\n",
       "    .dataframe tbody tr th {\n",
       "        vertical-align: top;\n",
       "    }\n",
       "\n",
       "    .dataframe thead th {\n",
       "        text-align: right;\n",
       "    }\n",
       "</style>\n",
       "<table border=\"1\" class=\"dataframe\">\n",
       "  <thead>\n",
       "    <tr style=\"text-align: right;\">\n",
       "      <th></th>\n",
       "      <th>Postal Code</th>\n",
       "      <th>City</th>\n",
       "      <th>Administrative Region</th>\n",
       "      <th>Population</th>\n",
       "      <th>Area km²</th>\n",
       "    </tr>\n",
       "  </thead>\n",
       "  <tbody>\n",
       "    <tr>\n",
       "      <th>0</th>\n",
       "      <td>10115</td>\n",
       "      <td>Berlin</td>\n",
       "      <td>Berlin</td>\n",
       "      <td>16,678</td>\n",
       "      <td>2.421</td>\n",
       "    </tr>\n",
       "    <tr>\n",
       "      <th>1</th>\n",
       "      <td>10117</td>\n",
       "      <td>Berlin</td>\n",
       "      <td>Berlin</td>\n",
       "      <td>24,223</td>\n",
       "      <td>3.321</td>\n",
       "    </tr>\n",
       "    <tr>\n",
       "      <th>2</th>\n",
       "      <td>10119</td>\n",
       "      <td>Berlin</td>\n",
       "      <td>Berlin</td>\n",
       "      <td>7,408</td>\n",
       "      <td>0.857</td>\n",
       "    </tr>\n",
       "    <tr>\n",
       "      <th>3</th>\n",
       "      <td>10178</td>\n",
       "      <td>Berlin</td>\n",
       "      <td>Berlin</td>\n",
       "      <td>14,069</td>\n",
       "      <td>1.872</td>\n",
       "    </tr>\n",
       "    <tr>\n",
       "      <th>4</th>\n",
       "      <td>10179</td>\n",
       "      <td>Berlin</td>\n",
       "      <td>Berlin</td>\n",
       "      <td>15,897</td>\n",
       "      <td>2.183</td>\n",
       "    </tr>\n",
       "  </tbody>\n",
       "</table>\n",
       "</div>"
      ]
     },
     "metadata": {},
     "execution_count": 19
    }
   ],
   "metadata": {}
  },
  {
   "cell_type": "code",
   "execution_count": 20,
   "source": [
    "berlin_details_df = pd.read_csv('berlin_details.csv', delimiter=';')\r\n",
    "berlin_details_df.head()"
   ],
   "outputs": [
    {
     "output_type": "execute_result",
     "data": {
      "text/plain": [
       "   Postal Code  Median Age         Neighborhoods   Latitude  Longitude\n",
       "0        10115        43.0                 Mitte  52.533707  13.387224\n",
       "1        10117        43.0                 Mitte  52.518746  13.390193\n",
       "2        10119        43.0  Bezirk Pankow, Mitte  52.532666  13.407149\n",
       "3        10178        43.0                 Mitte  52.523474  13.412203\n",
       "4        10179        43.0    Luisenstadt, Mitte  52.514591  13.419699"
      ],
      "text/html": [
       "<div>\n",
       "<style scoped>\n",
       "    .dataframe tbody tr th:only-of-type {\n",
       "        vertical-align: middle;\n",
       "    }\n",
       "\n",
       "    .dataframe tbody tr th {\n",
       "        vertical-align: top;\n",
       "    }\n",
       "\n",
       "    .dataframe thead th {\n",
       "        text-align: right;\n",
       "    }\n",
       "</style>\n",
       "<table border=\"1\" class=\"dataframe\">\n",
       "  <thead>\n",
       "    <tr style=\"text-align: right;\">\n",
       "      <th></th>\n",
       "      <th>Postal Code</th>\n",
       "      <th>Median Age</th>\n",
       "      <th>Neighborhoods</th>\n",
       "      <th>Latitude</th>\n",
       "      <th>Longitude</th>\n",
       "    </tr>\n",
       "  </thead>\n",
       "  <tbody>\n",
       "    <tr>\n",
       "      <th>0</th>\n",
       "      <td>10115</td>\n",
       "      <td>43.0</td>\n",
       "      <td>Mitte</td>\n",
       "      <td>52.533707</td>\n",
       "      <td>13.387224</td>\n",
       "    </tr>\n",
       "    <tr>\n",
       "      <th>1</th>\n",
       "      <td>10117</td>\n",
       "      <td>43.0</td>\n",
       "      <td>Mitte</td>\n",
       "      <td>52.518746</td>\n",
       "      <td>13.390193</td>\n",
       "    </tr>\n",
       "    <tr>\n",
       "      <th>2</th>\n",
       "      <td>10119</td>\n",
       "      <td>43.0</td>\n",
       "      <td>Bezirk Pankow, Mitte</td>\n",
       "      <td>52.532666</td>\n",
       "      <td>13.407149</td>\n",
       "    </tr>\n",
       "    <tr>\n",
       "      <th>3</th>\n",
       "      <td>10178</td>\n",
       "      <td>43.0</td>\n",
       "      <td>Mitte</td>\n",
       "      <td>52.523474</td>\n",
       "      <td>13.412203</td>\n",
       "    </tr>\n",
       "    <tr>\n",
       "      <th>4</th>\n",
       "      <td>10179</td>\n",
       "      <td>43.0</td>\n",
       "      <td>Luisenstadt, Mitte</td>\n",
       "      <td>52.514591</td>\n",
       "      <td>13.419699</td>\n",
       "    </tr>\n",
       "  </tbody>\n",
       "</table>\n",
       "</div>"
      ]
     },
     "metadata": {},
     "execution_count": 20
    }
   ],
   "metadata": {}
  },
  {
   "cell_type": "code",
   "execution_count": 21,
   "source": [
    "amsterdam_codes_df = pd.read_csv('amsterdam_codes.csv', delimiter=';')\r\n",
    "amsterdam_codes_df.head()"
   ],
   "outputs": [
    {
     "output_type": "execute_result",
     "data": {
      "text/plain": [
       "   Postal District       City Administrative Region Population Area km²\n",
       "0             1011  Amsterdam         North Holland      6,606    1.032\n",
       "1             1012  Amsterdam         North Holland      7,067    1.207\n",
       "2             1013  Amsterdam         North Holland     26,792      6.3\n",
       "3             1014  Amsterdam         North Holland     15,056    2.699\n",
       "4             1015  Amsterdam         North Holland      5,926    0.776"
      ],
      "text/html": [
       "<div>\n",
       "<style scoped>\n",
       "    .dataframe tbody tr th:only-of-type {\n",
       "        vertical-align: middle;\n",
       "    }\n",
       "\n",
       "    .dataframe tbody tr th {\n",
       "        vertical-align: top;\n",
       "    }\n",
       "\n",
       "    .dataframe thead th {\n",
       "        text-align: right;\n",
       "    }\n",
       "</style>\n",
       "<table border=\"1\" class=\"dataframe\">\n",
       "  <thead>\n",
       "    <tr style=\"text-align: right;\">\n",
       "      <th></th>\n",
       "      <th>Postal District</th>\n",
       "      <th>City</th>\n",
       "      <th>Administrative Region</th>\n",
       "      <th>Population</th>\n",
       "      <th>Area km²</th>\n",
       "    </tr>\n",
       "  </thead>\n",
       "  <tbody>\n",
       "    <tr>\n",
       "      <th>0</th>\n",
       "      <td>1011</td>\n",
       "      <td>Amsterdam</td>\n",
       "      <td>North Holland</td>\n",
       "      <td>6,606</td>\n",
       "      <td>1.032</td>\n",
       "    </tr>\n",
       "    <tr>\n",
       "      <th>1</th>\n",
       "      <td>1012</td>\n",
       "      <td>Amsterdam</td>\n",
       "      <td>North Holland</td>\n",
       "      <td>7,067</td>\n",
       "      <td>1.207</td>\n",
       "    </tr>\n",
       "    <tr>\n",
       "      <th>2</th>\n",
       "      <td>1013</td>\n",
       "      <td>Amsterdam</td>\n",
       "      <td>North Holland</td>\n",
       "      <td>26,792</td>\n",
       "      <td>6.3</td>\n",
       "    </tr>\n",
       "    <tr>\n",
       "      <th>3</th>\n",
       "      <td>1014</td>\n",
       "      <td>Amsterdam</td>\n",
       "      <td>North Holland</td>\n",
       "      <td>15,056</td>\n",
       "      <td>2.699</td>\n",
       "    </tr>\n",
       "    <tr>\n",
       "      <th>4</th>\n",
       "      <td>1015</td>\n",
       "      <td>Amsterdam</td>\n",
       "      <td>North Holland</td>\n",
       "      <td>5,926</td>\n",
       "      <td>0.776</td>\n",
       "    </tr>\n",
       "  </tbody>\n",
       "</table>\n",
       "</div>"
      ]
     },
     "metadata": {},
     "execution_count": 21
    }
   ],
   "metadata": {}
  },
  {
   "cell_type": "code",
   "execution_count": 22,
   "source": [
    "amsterdam_details_df = pd.read_csv('amsterdam_details.csv', delimiter=';')\r\n",
    "amsterdam_details_df.head()"
   ],
   "outputs": [
    {
     "output_type": "execute_result",
     "data": {
      "text/plain": [
       "   Postal Code  Median Age                                      Neighborhoods  \\\n",
       "0         1011        36.3               Amsterdam-Centrum, Stadsdeel Centrum   \n",
       "1         1012        36.3  Amsterdam-Centrum, Centrum, De Wallen, Stadsde...   \n",
       "2         1013        36.3  Amsterdam-Centrum, Amsterdam-West, Haarlemmerb...   \n",
       "3         1014        36.3  Amsterdam-West, Bedrijventerrein Sloterdijk, S...   \n",
       "4         1015        36.3    Amsterdam-Centrum, Grachtengordel-West, Jordaan   \n",
       "\n",
       "    Latitude  Longitude  \n",
       "0  52.371124   4.903752  \n",
       "1  52.373179   4.894910  \n",
       "2  52.387662   4.883396  \n",
       "3  52.393066   4.853503  \n",
       "4  52.378205   4.882973  "
      ],
      "text/html": [
       "<div>\n",
       "<style scoped>\n",
       "    .dataframe tbody tr th:only-of-type {\n",
       "        vertical-align: middle;\n",
       "    }\n",
       "\n",
       "    .dataframe tbody tr th {\n",
       "        vertical-align: top;\n",
       "    }\n",
       "\n",
       "    .dataframe thead th {\n",
       "        text-align: right;\n",
       "    }\n",
       "</style>\n",
       "<table border=\"1\" class=\"dataframe\">\n",
       "  <thead>\n",
       "    <tr style=\"text-align: right;\">\n",
       "      <th></th>\n",
       "      <th>Postal Code</th>\n",
       "      <th>Median Age</th>\n",
       "      <th>Neighborhoods</th>\n",
       "      <th>Latitude</th>\n",
       "      <th>Longitude</th>\n",
       "    </tr>\n",
       "  </thead>\n",
       "  <tbody>\n",
       "    <tr>\n",
       "      <th>0</th>\n",
       "      <td>1011</td>\n",
       "      <td>36.3</td>\n",
       "      <td>Amsterdam-Centrum, Stadsdeel Centrum</td>\n",
       "      <td>52.371124</td>\n",
       "      <td>4.903752</td>\n",
       "    </tr>\n",
       "    <tr>\n",
       "      <th>1</th>\n",
       "      <td>1012</td>\n",
       "      <td>36.3</td>\n",
       "      <td>Amsterdam-Centrum, Centrum, De Wallen, Stadsde...</td>\n",
       "      <td>52.373179</td>\n",
       "      <td>4.894910</td>\n",
       "    </tr>\n",
       "    <tr>\n",
       "      <th>2</th>\n",
       "      <td>1013</td>\n",
       "      <td>36.3</td>\n",
       "      <td>Amsterdam-Centrum, Amsterdam-West, Haarlemmerb...</td>\n",
       "      <td>52.387662</td>\n",
       "      <td>4.883396</td>\n",
       "    </tr>\n",
       "    <tr>\n",
       "      <th>3</th>\n",
       "      <td>1014</td>\n",
       "      <td>36.3</td>\n",
       "      <td>Amsterdam-West, Bedrijventerrein Sloterdijk, S...</td>\n",
       "      <td>52.393066</td>\n",
       "      <td>4.853503</td>\n",
       "    </tr>\n",
       "    <tr>\n",
       "      <th>4</th>\n",
       "      <td>1015</td>\n",
       "      <td>36.3</td>\n",
       "      <td>Amsterdam-Centrum, Grachtengordel-West, Jordaan</td>\n",
       "      <td>52.378205</td>\n",
       "      <td>4.882973</td>\n",
       "    </tr>\n",
       "  </tbody>\n",
       "</table>\n",
       "</div>"
      ]
     },
     "metadata": {},
     "execution_count": 22
    }
   ],
   "metadata": {}
  }
 ],
 "metadata": {
  "orig_nbformat": 4,
  "language_info": {
   "name": "python",
   "version": "3.9.4",
   "mimetype": "text/x-python",
   "codemirror_mode": {
    "name": "ipython",
    "version": 3
   },
   "pygments_lexer": "ipython3",
   "nbconvert_exporter": "python",
   "file_extension": ".py"
  },
  "kernelspec": {
   "name": "python3",
   "display_name": "Python 3.9.4 64-bit ('venv': venv)"
  },
  "interpreter": {
   "hash": "37f1180475ecdb2ed36665e0395db1fba434db1f5df330b017f5de6a886f47e0"
  }
 },
 "nbformat": 4,
 "nbformat_minor": 2
}